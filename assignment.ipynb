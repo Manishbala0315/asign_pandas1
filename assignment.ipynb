{
 "cells": [
  {
   "cell_type": "code",
   "execution_count": 3,
   "id": "53a3cef6-ba47-49d9-a5f7-5f59d5b3f0bb",
   "metadata": {},
   "outputs": [
    {
     "name": "stdout",
     "output_type": "stream",
     "text": [
      "Requirement already satisfied: pandas in /opt/conda/lib/python3.10/site-packages (1.5.2)\n",
      "Requirement already satisfied: python-dateutil>=2.8.1 in /opt/conda/lib/python3.10/site-packages (from pandas) (2.8.2)\n",
      "Requirement already satisfied: pytz>=2020.1 in /opt/conda/lib/python3.10/site-packages (from pandas) (2022.6)\n",
      "Requirement already satisfied: numpy>=1.21.0 in /opt/conda/lib/python3.10/site-packages (from pandas) (1.23.5)\n",
      "Requirement already satisfied: six>=1.5 in /opt/conda/lib/python3.10/site-packages (from python-dateutil>=2.8.1->pandas) (1.16.0)\n",
      "Note: you may need to restart the kernel to use updated packages.\n"
     ]
    }
   ],
   "source": [
    "pip install pandas\n"
   ]
  },
  {
   "cell_type": "code",
   "execution_count": 4,
   "id": "92d29a03-bd46-4fdf-83d2-0795951b1e0e",
   "metadata": {},
   "outputs": [],
   "source": [
    "import pandas as pd"
   ]
  },
  {
   "cell_type": "code",
   "execution_count": 5,
   "id": "8371e2e3-a243-4a38-8152-49b991f2fbc4",
   "metadata": {},
   "outputs": [],
   "source": [
    "#Answer no 1 "
   ]
  },
  {
   "cell_type": "code",
   "execution_count": 6,
   "id": "ed6abc5b-332f-43e8-b70c-87468a2f6a04",
   "metadata": {},
   "outputs": [],
   "source": [
    "data = [4,8,15,16,23,42,]"
   ]
  },
  {
   "cell_type": "code",
   "execution_count": 7,
   "id": "3c230aa9-cde2-4f5f-bab9-17d1184d885d",
   "metadata": {},
   "outputs": [],
   "source": [
    "series = pd.Series(data)"
   ]
  },
  {
   "cell_type": "code",
   "execution_count": null,
   "id": "99fe0373-d2ff-41b8-9c6f-fc1e1d4a6f1a",
   "metadata": {},
   "outputs": [
    {
     "name": "stdout",
     "output_type": "stream",
     "text": [
      "0     4\n",
      "1     8\n",
      "2    15\n",
      "3    16\n",
      "4    23\n",
      "5    42\n",
      "dtype: int64\n"
     ]
    }
   ],
   "source": [
    "print(series)"
   ]
  },
  {
   "cell_type": "code",
   "execution_count": null,
   "id": "cafe258d-5bfd-4880-a5c1-5ab097dac459",
   "metadata": {},
   "outputs": [],
   "source": [
    "#Answer no 2"
   ]
  },
  {
   "cell_type": "code",
   "execution_count": 9,
   "id": "823e824d-c4a6-4852-9f82-ab7b2658d498",
   "metadata": {},
   "outputs": [],
   "source": [
    "new_list = ['Pen','Table','laptop','mouse','keywooard','pancil','glass','moniter','book','file']"
   ]
  },
  {
   "cell_type": "code",
   "execution_count": 10,
   "id": "2f555a36-c0ae-456c-a546-8d094e674b80",
   "metadata": {},
   "outputs": [],
   "source": [
    "series = pd.Series(new_list)"
   ]
  },
  {
   "cell_type": "code",
   "execution_count": 11,
   "id": "1a07b053-506c-4f1b-84e4-524a5d78623b",
   "metadata": {},
   "outputs": [
    {
     "name": "stdout",
     "output_type": "stream",
     "text": [
      "0          Pen\n",
      "1        Table\n",
      "2       laptop\n",
      "3        mouse\n",
      "4    keywooard\n",
      "5       pancil\n",
      "6        glass\n",
      "7      moniter\n",
      "8         book\n",
      "9         file\n",
      "dtype: object\n"
     ]
    }
   ],
   "source": [
    "print(series)\n"
   ]
  },
  {
   "cell_type": "code",
   "execution_count": null,
   "id": "724b01eb-8a8f-4827-a23a-f09a1516e4ff",
   "metadata": {},
   "outputs": [],
   "source": [
    "#Answer no 3"
   ]
  },
  {
   "cell_type": "code",
   "execution_count": 12,
   "id": "aa66b2d4-d963-42f6-b9f6-898ad305ebd7",
   "metadata": {},
   "outputs": [],
   "source": [
    "data = {'Name':['Alice','Bob','Claire'],\n",
    "        'Age':['25','30','27'],\n",
    "        'Gender':['Female','Male','Female']\n",
    "}"
   ]
  },
  {
   "cell_type": "code",
   "execution_count": 13,
   "id": "57c15944-ba43-44bc-8f20-7331e5c9f185",
   "metadata": {},
   "outputs": [
    {
     "name": "stdout",
     "output_type": "stream",
     "text": [
      "     Name Age  Gender\n",
      "0   Alice  25  Female\n",
      "1     Bob  30    Male\n",
      "2  Claire  27  Female\n"
     ]
    }
   ],
   "source": [
    "df = pd.DataFrame(data)\n",
    "print(df)"
   ]
  },
  {
   "cell_type": "code",
   "execution_count": 14,
   "id": "90f84ae3-4337-4719-9c3e-532107c98776",
   "metadata": {},
   "outputs": [],
   "source": [
    "#Answer no 4"
   ]
  },
  {
   "cell_type": "code",
   "execution_count": 15,
   "id": "bce13dd0-b6fd-46e0-bc0c-e50a786308d9",
   "metadata": {},
   "outputs": [],
   "source": [
    "#In pandas, a DataFrame is a two-dimensional labeled data structure that is similar to a table in a relational database or a spreadsheet. It consists of rows and columns, where each column can contain different data types (e.g., integers, floats, strings) and has a label called a column name. The DataFrame allows for easy manipulation and analysis of data, providing various functions and methods to perform operations on the data.\n",
    "\n",
    "#A DataFrame can be thought of as a collection of Series objects. A Series, on the other hand, is a one-dimensional labeled array capable of holding any data type. It is similar to a column in a DataFrame and represents a single column of data with a label called the index. Series objects are commonly used to store and manipulate a single column of data or to extract a specific column from a DataFrame."
   ]
  },
  {
   "cell_type": "code",
   "execution_count": 16,
   "id": "fc41e45f-5227-4c78-9114-4b7d0dc22a55",
   "metadata": {},
   "outputs": [
    {
     "name": "stdout",
     "output_type": "stream",
     "text": [
      "     Name Age Gender\n",
      "0  Manish  20      m\n",
      "1   Rahul  19      m\n",
      "2   Bittu  20      m\n",
      "3  hirday  19      m\n"
     ]
    }
   ],
   "source": [
    "#Example of data frame and series\n",
    "data = {'Name':['Manish','Rahul','Bittu','hirday'],\n",
    "        'Age': ['20','19','20','19'],\n",
    "        'Gender':['m','m','m','m']\n",
    "\n",
    "}\n",
    "df = pd.DataFrame(data)\n",
    "print(df)"
   ]
  },
  {
   "cell_type": "code",
   "execution_count": 17,
   "id": "e0f33635-9f5d-43cb-a86b-1623795fc19a",
   "metadata": {},
   "outputs": [
    {
     "name": "stdout",
     "output_type": "stream",
     "text": [
      "John    25\n",
      "Jane    30\n",
      "Mike    35\n",
      "Name: Age, dtype: int64\n"
     ]
    }
   ],
   "source": [
    "#Exammple of series \n",
    "\n",
    "\n",
    "data = [25, 30, 35]\n",
    "index = ['John', 'Jane', 'Mike']\n",
    "\n",
    "series = pd.Series(data, index=index, name='Age')\n",
    "print(series)\n"
   ]
  },
  {
   "cell_type": "code",
   "execution_count": 18,
   "id": "af5e4ce3-f678-4c22-826f-fd3ea8779a7d",
   "metadata": {},
   "outputs": [],
   "source": [
    "#Answer no 5\n",
    "#head() and tail(): These functions allow you to view the first few rows (head()) or the last few rows (tail()) of a DataFrame. They are often used to get a quick glimpse of the data."
   ]
  },
  {
   "cell_type": "code",
   "execution_count": 20,
   "id": "0498f24d-b8e6-4c44-a61d-ff0626460da7",
   "metadata": {},
   "outputs": [],
   "source": [
    "#Example\n",
    "\n",
    "df = pd.read_csv('data.csv')  # Assume 'data.csv' is a file containing the data\n",
    "print(df.head())  # View the first 5 rows\n",
    "\n",
    "\n",
    "df = pd.read_csv('data.csv')\n",
    "df.info()\n",
    "\n",
    "df = pd.read_csv('data.csv')\n",
    "print(df.describe())\n",
    "\n"
   ]
  },
  {
   "cell_type": "code",
   "execution_count": 21,
   "id": "b439dd39-bf2f-4c4c-a8d4-6fa9265b15c0",
   "metadata": {},
   "outputs": [],
   "source": [
    "#answer no 5"
   ]
  },
  {
   "cell_type": "code",
   "execution_count": 22,
   "id": "3964cfec-60c0-446c-afbe-d2382212ae87",
   "metadata": {},
   "outputs": [],
   "source": [
    "#mong the options provided, both Series and DataFrame in pandas are mutable in nature, meaning they can be modified after creation.\n",
    "\n",
    "#Series objects can be modified by assigning new values to specific elements or by applying functions that modify the existing values. For example, you can change a value in a Series by accessing it using its index label and assigning a new value.\n",
    "\n",
    "#DataFrame objects can be modified by adding or removing columns, changing values in specific cells, or applying various operations to manipulate the data. You can modify DataFrame values by accessing specific cells using column names and index labels."
   ]
  },
  {
   "cell_type": "code",
   "execution_count": null,
   "id": "132799c0-4184-4ec8-9dba-83fab1e4f902",
   "metadata": {},
   "outputs": [],
   "source": []
  }
 ],
 "metadata": {
  "kernelspec": {
   "display_name": "Python 3 (ipykernel)",
   "language": "python",
   "name": "python3"
  },
  "language_info": {
   "codemirror_mode": {
    "name": "ipython",
    "version": 3
   },
   "file_extension": ".py",
   "mimetype": "text/x-python",
   "name": "python",
   "nbconvert_exporter": "python",
   "pygments_lexer": "ipython3",
   "version": "3.10.8"
  }
 },
 "nbformat": 4,
 "nbformat_minor": 5
}
